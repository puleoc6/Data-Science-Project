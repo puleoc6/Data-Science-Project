{
 "cells": [
  {
   "cell_type": "code",
   "execution_count": 2,
   "metadata": {},
   "outputs": [],
   "source": [
    "#Loading Libraries\n",
    "import pandas as pd\n",
    "import numpy as np\n",
    "import matplotlib.pyplot as plt\n",
    "import warnings; warnings.simplefilter('ignore')\n",
    "from sklearn import metrics\n",
    "%matplotlib inline"
   ]
  },
  {
   "cell_type": "code",
   "execution_count": 3,
   "metadata": {},
   "outputs": [],
   "source": [
    "#reading CSV file into Data variable\n",
    "data = pd.read_csv(r\"C:\\Users\\puleo\\Desktop\\SeckiN\\netflow_day-02.csv\",sep=\",\",index_col=False, nrows=100000)"
   ]
  },
  {
   "cell_type": "code",
   "execution_count": 4,
   "metadata": {},
   "outputs": [
    {
     "name": "stdout",
     "output_type": "stream",
     "text": [
      "         time  duration   srcDevice   dstDevice  protocol    srcPort  \\\n",
      "0      118781      5580  Comp364445  Comp547245        17  Port05507   \n",
      "1      118783      6976  Comp450942  Comp829338         6  Port03137   \n",
      "2      118785     14178    IP564116  Comp141988        17       5060   \n",
      "3      118785     28147    IP564116  Comp141988        17       5060   \n",
      "4      118785     48507    IP564116  Comp141988        17       5060   \n",
      "5      118785     63173    IP564116  Comp141988        17       5060   \n",
      "6      118785     78594    IP564116  Comp141988        17       5060   \n",
      "7      118785     90763    IP564116  Comp141988        17       5060   \n",
      "8      118785    104427    IP564116  Comp141988        17       5060   \n",
      "9      118785    115677    IP564116  Comp141988        17       5060   \n",
      "10     118785    135078    IP564116  Comp141988        17       5060   \n",
      "11     118785    148289    IP564116  Comp141988        17       5060   \n",
      "12     118785    167723    IP564116  Comp141988        17       5060   \n",
      "13     118785    179543    IP564116  Comp141988        17       5060   \n",
      "14     118785    189213    IP564116  Comp141988        17       5060   \n",
      "15     118785    200844    IP564116  Comp141988        17       5060   \n",
      "16     118785    212848    IP564116  Comp141988        17       5060   \n",
      "17     118785    223056    IP564116  Comp141988        17       5060   \n",
      "18     118785    238229    IP564116  Comp141988        17       5060   \n",
      "19     118785    253649    IP564116  Comp141988        17       5060   \n",
      "20     118785    262319    IP564116  Comp141988        17       5060   \n",
      "21     118841      5071  Comp364445  Comp870517        17  Port55006   \n",
      "22     118843     15340  Comp364445  Comp870517        17  Port68697   \n",
      "23     118843     28287  Comp364445  Comp870517        17  Port68697   \n",
      "24     118843     49709  Comp364445  Comp870517        17  Port68697   \n",
      "25     118843     64823  Comp364445  Comp870517        17  Port68697   \n",
      "26     118843     81329  Comp364445  Comp870517        17  Port68697   \n",
      "27     118843     86909  Comp364445  Comp870517        17  Port68697   \n",
      "28     118844      7788  Comp346466  Comp337732         6  Port97114   \n",
      "29     118844     15339  Comp364445  Comp547245        17  Port15083   \n",
      "...       ...       ...         ...         ...       ...        ...   \n",
      "99970  120440   3385346  Comp268371  Comp536273        17  Port41101   \n",
      "99971  120440   3389846  Comp442580  Comp387111        17        123   \n",
      "99972  120440   3399806  Comp268371  Comp536273        17  Port41101   \n",
      "99973  120440   3404706  Comp442580  Comp387111        17        123   \n",
      "99974  120440   3415122  Comp268371  Comp536273        17  Port41101   \n",
      "99975  120440   3419061  Comp442580  Comp387111        17        123   \n",
      "99976  120440   3429231  Comp268371  Comp536273        17  Port41101   \n",
      "99977  120440   3432472  Comp442580  Comp387111        17        123   \n",
      "99978  120440   3443431  Comp268371  Comp536273        17  Port41101   \n",
      "99979  120440   3447746  Comp442580  Comp387111        17        123   \n",
      "99980  120440   3457127  Comp268371  Comp536273        17  Port41101   \n",
      "99981  120440   3461142  Comp442580  Comp387111        17        123   \n",
      "99982  120440   3471571  Comp268371  Comp536273        17  Port41101   \n",
      "99983  120440   3475722  Comp442580  Comp387111        17        123   \n",
      "99984  120440   3485392  Comp268371  Comp536273        17  Port41101   \n",
      "99985  120440   3489436  Comp442580  Comp387111        17        123   \n",
      "99986  120440   3498097  Comp268371  Comp536273        17  Port41101   \n",
      "99987  120440   3502182  Comp442580  Comp387111        17        123   \n",
      "99988  120440   3512502  Comp268371  Comp536273        17  Port41101   \n",
      "99989  120440   3516352  Comp442580  Comp387111        17        123   \n",
      "99990  120440   3526636  Comp268371  Comp536273        17  Port41101   \n",
      "99991  120440   3530412  Comp442580  Comp387111        17        123   \n",
      "99992  120440   3540827  Comp268371  Comp536273        17  Port41101   \n",
      "99993  120440   3545133  Comp442580  Comp387111        17        123   \n",
      "99994  120440   3555457  Comp268371  Comp536273        17  Port41101   \n",
      "99995  120440   3559472  Comp442580  Comp387111        17        123   \n",
      "99996  120440   3570698  Comp268371  Comp536273        17  Port41101   \n",
      "99997  120440   3574203  Comp442580  Comp387111        17        123   \n",
      "99998  120440   3582732  Comp268371  Comp536273        17  Port41101   \n",
      "99999  120440   3586802  Comp442580  Comp387111        17        123   \n",
      "\n",
      "         dstPort  srcPackets  dstPackets   srcBytes    dstBytes  \n",
      "0      Port46272           0      755065          0  1042329018  \n",
      "1            445        1665        1108     300810      250408  \n",
      "2           5060        1866           0    1477041           0  \n",
      "3           5060        3326           0    2656305           0  \n",
      "4           5060        5423           0    4388449           0  \n",
      "5           5060        7061           0    5745536           0  \n",
      "6           5060        8638           0    7052947           0  \n",
      "7           5060        9943           0    8105139           0  \n",
      "8           5060       11544           0    9398696           0  \n",
      "9           5060       13011           0   10586412           0  \n",
      "10          5060       14876           0   12128980           0  \n",
      "11          5060       16366           0   13365368           0  \n",
      "12          5060       18213           0   14897583           0  \n",
      "13          5060       19467           0   15924693           0  \n",
      "14          5060       20703           0   16920558           0  \n",
      "15          5060       21922           0   17905913           0  \n",
      "16          5060       23159           0   18931121           0  \n",
      "17          5060       24344           0   19914020           0  \n",
      "18          5060       25816           0   21135448           0  \n",
      "19          5060       27333           0   22393722           0  \n",
      "20          5060       28257           0   23149303           0  \n",
      "21     Port46272           0      387956          0   528637071  \n",
      "22     Port28366        2702        3219     226968      296148  \n",
      "23     Port28366        5445        6438     457380      592296  \n",
      "24     Port28366        9296       11957     780864     1100044  \n",
      "25     Port28366       12773       15636    1072932     1438512  \n",
      "26     Port28366       15801       19775    1327284     1819300  \n",
      "27     Port28366       17015       21155    1429260     1946260  \n",
      "28           445        4504        3544     951517      632127  \n",
      "29     Port28366        2673        3219     224532      296148  \n",
      "...          ...         ...         ...        ...         ...  \n",
      "99970  Port41101      291143           0  281385083           0  \n",
      "99971        123       32520           0    2471520           0  \n",
      "99972  Port41101      292425           0  282627693           0  \n",
      "99973        123       32633           0    2480108           0  \n",
      "99974  Port41101      293702           0  283871746           0  \n",
      "99975        123       32742           0    2488392           0  \n",
      "99976  Port41101      294909           0  285047297           0  \n",
      "99977        123       32850           0    2496600           0  \n",
      "99978  Port41101      296126           0  286234893           0  \n",
      "99979        123       32960           0    2504960           0  \n",
      "99980  Port41101      297342           0  287414932           0  \n",
      "99981        123       33066           0    2513016           0  \n",
      "99982  Port41101      298547           0  288585660           0  \n",
      "99983        123       33173           0    2521148           0  \n",
      "99984  Port41101      299728           0  289732537           0  \n",
      "99985        123       33277           0    2529052           0  \n",
      "99986  Port41101      300856           0  290826949           0  \n",
      "99987        123       33375           0    2536500           0  \n",
      "99988  Port41101      302056           0  291987615           0  \n",
      "99989        123       33482           0    2544632           0  \n",
      "99990  Port41101      303266           0  293161384           0  \n",
      "99991        123       33589           0    2552764           0  \n",
      "99992  Port41101      304545           0  294351198           0  \n",
      "99993        123       33701           0    2561276           0  \n",
      "99994  Port41101      305903           0  295638337           0  \n",
      "99995        123       33815           0    2569940           0  \n",
      "99996  Port41101      307153           0  296849224           0  \n",
      "99997        123       33922           0    2578072           0  \n",
      "99998  Port41101      308183           0  297849129           0  \n",
      "99999        123       34018           0    2585368           0  \n",
      "\n",
      "[100000 rows x 11 columns]\n"
     ]
    }
   ],
   "source": [
    "print(data)"
   ]
  },
  {
   "cell_type": "code",
   "execution_count": 5,
   "metadata": {},
   "outputs": [],
   "source": [
    "#Storing these 4 columns into variable X\n",
    "X = data[['srcPackets','dstPackets','srcBytes','dstBytes']]"
   ]
  },
  {
   "cell_type": "code",
   "execution_count": 6,
   "metadata": {},
   "outputs": [],
   "source": [
    "#Transform X into a normalized data set\n",
    "from sklearn.preprocessing import MinMaxScaler\n",
    "scaler = MinMaxScaler()\n",
    "X_normalized = pd.DataFrame(scaler.fit_transform(X))"
   ]
  },
  {
   "cell_type": "code",
   "execution_count": 7,
   "metadata": {},
   "outputs": [],
   "source": [
    "#we assign column names to X_normalized\n",
    "X_normalized.columns = ['srcPackets','dstPackets','srcBytes','dstBytes']"
   ]
  },
  {
   "cell_type": "code",
   "execution_count": 8,
   "metadata": {},
   "outputs": [],
   "source": [
    "from sklearn.cluster import KMeans\n",
    "kmeans = KMeans(n_clusters=2)\n",
    "kmeans.fit(X_normalized)\n",
    "y_kmeans = kmeans.predict(X_normalized)"
   ]
  },
  {
   "cell_type": "code",
   "execution_count": 9,
   "metadata": {},
   "outputs": [
    {
     "name": "stdout",
     "output_type": "stream",
     "text": [
      "Cluster centers of columns:\n",
      "\n",
      "   srcPackets  dstPackets  srcBytes  dstBytes\n",
      "0    0.000186    0.000117  0.000370  0.000314\n",
      "1    0.588978    0.475977  0.620936  0.465306\n"
     ]
    }
   ],
   "source": [
    "#Assigning cluster centers\n",
    "centers = kmeans.cluster_centers_\n",
    "print('Cluster centers of columns:\\n')\n",
    "print(pd.DataFrame(centers,columns= ['srcPackets','dstPackets','srcBytes','dstBytes']))"
   ]
  },
  {
   "cell_type": "code",
   "execution_count": 10,
   "metadata": {},
   "outputs": [],
   "source": [
    "from sklearn import metrics\n",
    "from scipy.spatial.distance import cdist"
   ]
  },
  {
   "cell_type": "code",
   "execution_count": 11,
   "metadata": {},
   "outputs": [
    {
     "data": {
      "image/png": "[encoded data removed]",
      "text/plain": [
       "<matplotlib.figure.Figure at 0x1c869c5aa58>"
      ]
     },
     "metadata": {},
     "output_type": "display_data"
    }
   ],
   "source": [
    "distortions = []\n",
    "K = range(1,10)\n",
    "for k in K:\n",
    "    kmeanModel = KMeans(n_clusters=k).fit(X_normalized)\n",
    "    kmeanModel.fit(X_normalized)\n",
    "    distortions.append(sum(np.min(cdist(X_normalized, kmeanModel.cluster_centers_, 'euclidean'), axis=1)) / X_normalized.shape[0])\n",
    " \n",
    "# Plot the elbow\n",
    "plt.plot(K, distortions, 'bx-')\n",
    "plt.xlabel('k')\n",
    "plt.ylabel('Distortion')\n",
    "plt.title('The Elbow Method showing the optimal k')\n",
    "plt.show()"
   ]
  },
  {
   "cell_type": "code",
   "execution_count": 12,
   "metadata": {},
   "outputs": [],
   "source": [
    "variables = pd.read_csv(r\"C:\\Users\\puleo\\Desktop\\SeckiN\\netflow_day-02.csv\",sep=\",\",index_col=False, nrows=100000)\n",
    "\n",
    "Y = variables[['srcPackets']]\n",
    "\n",
    "X = variables[['srcBytes']]"
   ]
  },
  {
   "cell_type": "code",
   "execution_count": 13,
   "metadata": {},
   "outputs": [],
   "source": [
    "import pylab as pl"
   ]
  },
  {
   "cell_type": "code",
   "execution_count": 14,
   "metadata": {},
   "outputs": [],
   "source": [
    "from sklearn.cluster import KMeans\n",
    "\n",
    "from sklearn.decomposition import PCA"
   ]
  },
  {
   "cell_type": "code",
   "execution_count": 15,
   "metadata": {},
   "outputs": [],
   "source": [
    "\n",
    "pca = PCA(n_components=1).fit(Y)\n",
    "\n",
    "pca_d = pca.transform(Y)\n",
    "\n",
    "pca_c = pca.transform(X)"
   ]
  },
  {
   "cell_type": "code",
   "execution_count": 16,
   "metadata": {},
   "outputs": [
    {
     "data": {
      "image/png": "[encoded data removed]",
      "text/plain": [
       "<matplotlib.figure.Figure at 0x1c86a43feb8>"
      ]
     },
     "metadata": {},
     "output_type": "display_data"
    }
   ],
   "source": [
    "kmeans=KMeans(n_clusters=2)\n",
    "\n",
    "kmeansoutput=kmeans.fit(Y)\n",
    "\n",
    "kmeansoutput\n",
    "\n",
    "pl.figure('2 Cluster K-Means')\n",
    "\n",
    "pl.scatter(pca_c[:, 0], pca_d[:, 0], c=kmeansoutput.labels_)\n",
    "\n",
    "pl.xlabel('srcBytes')\n",
    "\n",
    "pl.ylabel('srcPackets')\n",
    "\n",
    "pl.title('2 Cluster K-Means')\n",
    "\n",
    "pl.show()"
   ]
  },
  {
   "cell_type": "code",
   "execution_count": 17,
   "metadata": {},
   "outputs": [],
   "source": [
    "variables = pd.read_csv(r\"C:\\Users\\puleo\\Desktop\\SeckiN\\netflow_day-02.csv\",sep=\",\",index_col=False, nrows=100000)\n",
    "\n",
    "Y = variables[['dstPackets']]\n",
    "\n",
    "X = variables[['dstBytes']]"
   ]
  },
  {
   "cell_type": "code",
   "execution_count": 18,
   "metadata": {},
   "outputs": [
    {
     "data": {
      "image/png": "[encoded data removed]",
      "text/plain": [
       "<matplotlib.figure.Figure at 0x1c86a535a90>"
      ]
     },
     "metadata": {},
     "output_type": "display_data"
    }
   ],
   "source": [
    "kmeans=KMeans(n_clusters=2)\n",
    "\n",
    "kmeansoutput=kmeans.fit(Y)\n",
    "\n",
    "kmeansoutput\n",
    "\n",
    "pl.figure('2 Cluster K-Means')\n",
    "\n",
    "pl.scatter(pca_c[:, 0], pca_d[:, 0], c=kmeansoutput.labels_)\n",
    "\n",
    "pl.xlabel('dstBytes')\n",
    "\n",
    "pl.ylabel('dstPackets')\n",
    "\n",
    "pl.title('2 Cluster K-Means')\n",
    "\n",
    "pl.show()"
   ]
  },
  {
   "cell_type": "code",
   "execution_count": 21,
   "metadata": {},
   "outputs": [],
   "source": [
    "#Loading Libraries\n",
    "import pandas as pd\n",
    "import numpy as np\n",
    "import matplotlib.pyplot as plt\n",
    "import warnings; warnings.simplefilter('ignore')\n",
    "%matplotlib inline"
   ]
  },
  {
   "cell_type": "code",
   "execution_count": 23,
   "metadata": {},
   "outputs": [],
   "source": [
    "#Gathering Data\n",
    "credit = pd.read_csv(r\"C:\\Users\\puleo\\Desktop\\SeckiN\\netflow_day-02.csv\",sep=\",\",index_col=False, nrows=100000)"
   ]
  },
  {
   "cell_type": "code",
   "execution_count": 24,
   "metadata": {},
   "outputs": [
    {
     "data": {
      "text/html": [
       "<div>\n",
       "<style scoped>\n",
       "    .dataframe tbody tr th:only-of-type {\n",
       "        vertical-align: middle;\n",
       "    }\n",
       "\n",
       "    .dataframe tbody tr th {\n",
       "        vertical-align: top;\n",
       "    }\n",
       "\n",
       "    .dataframe thead th {\n",
       "        text-align: right;\n",
       "    }\n",
       "</style>\n",
       "<table border=\"1\" class=\"dataframe\">\n",
       "  <thead>\n",
       "    <tr style=\"text-align: right;\">\n",
       "      <th></th>\n",
       "      <th>time</th>\n",
       "      <th>duration</th>\n",
       "      <th>srcDevice</th>\n",
       "      <th>dstDevice</th>\n",
       "      <th>protocol</th>\n",
       "      <th>srcPort</th>\n",
       "      <th>dstPort</th>\n",
       "      <th>srcPackets</th>\n",
       "      <th>dstPackets</th>\n",
       "      <th>srcBytes</th>\n",
       "      <th>dstBytes</th>\n",
       "    </tr>\n",
       "  </thead>\n",
       "  <tbody>\n",
       "    <tr>\n",
       "      <th>0</th>\n",
       "      <td>118781</td>\n",
       "      <td>5580</td>\n",
       "      <td>Comp364445</td>\n",
       "      <td>Comp547245</td>\n",
       "      <td>17</td>\n",
       "      <td>Port05507</td>\n",
       "      <td>Port46272</td>\n",
       "      <td>0</td>\n",
       "      <td>755065</td>\n",
       "      <td>0</td>\n",
       "      <td>1042329018</td>\n",
       "    </tr>\n",
       "    <tr>\n",
       "      <th>1</th>\n",
       "      <td>118783</td>\n",
       "      <td>6976</td>\n",
       "      <td>Comp450942</td>\n",
       "      <td>Comp829338</td>\n",
       "      <td>6</td>\n",
       "      <td>Port03137</td>\n",
       "      <td>445</td>\n",
       "      <td>1665</td>\n",
       "      <td>1108</td>\n",
       "      <td>300810</td>\n",
       "      <td>250408</td>\n",
       "    </tr>\n",
       "    <tr>\n",
       "      <th>2</th>\n",
       "      <td>118785</td>\n",
       "      <td>14178</td>\n",
       "      <td>IP564116</td>\n",
       "      <td>Comp141988</td>\n",
       "      <td>17</td>\n",
       "      <td>5060</td>\n",
       "      <td>5060</td>\n",
       "      <td>1866</td>\n",
       "      <td>0</td>\n",
       "      <td>1477041</td>\n",
       "      <td>0</td>\n",
       "    </tr>\n",
       "    <tr>\n",
       "      <th>3</th>\n",
       "      <td>118785</td>\n",
       "      <td>28147</td>\n",
       "      <td>IP564116</td>\n",
       "      <td>Comp141988</td>\n",
       "      <td>17</td>\n",
       "      <td>5060</td>\n",
       "      <td>5060</td>\n",
       "      <td>3326</td>\n",
       "      <td>0</td>\n",
       "      <td>2656305</td>\n",
       "      <td>0</td>\n",
       "    </tr>\n",
       "    <tr>\n",
       "      <th>4</th>\n",
       "      <td>118785</td>\n",
       "      <td>48507</td>\n",
       "      <td>IP564116</td>\n",
       "      <td>Comp141988</td>\n",
       "      <td>17</td>\n",
       "      <td>5060</td>\n",
       "      <td>5060</td>\n",
       "      <td>5423</td>\n",
       "      <td>0</td>\n",
       "      <td>4388449</td>\n",
       "      <td>0</td>\n",
       "    </tr>\n",
       "  </tbody>\n",
       "</table>\n",
       "</div>"
      ],
      "text/plain": [
       "     time  duration   srcDevice   dstDevice  protocol    srcPort    dstPort  \\\n",
       "0  118781      5580  Comp364445  Comp547245        17  Port05507  Port46272   \n",
       "1  118783      6976  Comp450942  Comp829338         6  Port03137        445   \n",
       "2  118785     14178    IP564116  Comp141988        17       5060       5060   \n",
       "3  118785     28147    IP564116  Comp141988        17       5060       5060   \n",
       "4  118785     48507    IP564116  Comp141988        17       5060       5060   \n",
       "\n",
       "   srcPackets  dstPackets  srcBytes    dstBytes  \n",
       "0           0      755065         0  1042329018  \n",
       "1        1665        1108    300810      250408  \n",
       "2        1866           0   1477041           0  \n",
       "3        3326           0   2656305           0  \n",
       "4        5423           0   4388449           0  "
      ]
     },
     "execution_count": 24,
     "metadata": {},
     "output_type": "execute_result"
    }
   ],
   "source": [
    "#First 5 Rows of Data#First 5 \n",
    "credit.head()"
   ]
  },
  {
   "cell_type": "code",
   "execution_count": 25,
   "metadata": {},
   "outputs": [],
   "source": [
    "#Selecting Numeric Fields To Be Used In Modelling\n",
    "X = credit[['srcPackets','dstPackets','srcBytes','dstBytes']]"
   ]
  },
  {
   "cell_type": "code",
   "execution_count": 26,
   "metadata": {},
   "outputs": [],
   "source": [
    "#Loading Min Max Scaling and Creating New Data Frame\n",
    "from sklearn.preprocessing import MinMaxScaler\n",
    "scaler = MinMaxScaler()\n",
    "X_normalized = pd.DataFrame(scaler.fit_transform(X))"
   ]
  },
  {
   "cell_type": "code",
   "execution_count": 27,
   "metadata": {},
   "outputs": [],
   "source": [
    "#Assining Column Names\n",
    "X_normalized.columns = ['srcPackets','dstPackets','srcBytes','dstBytes']"
   ]
  },
  {
   "cell_type": "code",
   "execution_count": 28,
   "metadata": {},
   "outputs": [
    {
     "data": {
      "text/plain": [
       "IsolationForest(bootstrap=False, contamination=0.1, max_features=1.0,\n",
       "        max_samples='auto', n_estimators=100, n_jobs=1, random_state=None,\n",
       "        verbose=0)"
      ]
     },
     "execution_count": 28,
     "metadata": {},
     "output_type": "execute_result"
    }
   ],
   "source": [
    "#Implementing Algorithm\n",
    "from sklearn.ensemble import IsolationForest\n",
    "iforest = IsolationForest()\n",
    "iforest.fit(X_normalized)"
   ]
  },
  {
   "cell_type": "code",
   "execution_count": 29,
   "metadata": {},
   "outputs": [],
   "source": [
    "#Predicting Anomaly Class and Anomaly Score\n",
    "Anomaly_Class = iforest.predict(X_normalized)\n",
    "Anomaly_Score = iforest.decision_function(X_normalized)"
   ]
  },
  {
   "cell_type": "code",
   "execution_count": 30,
   "metadata": {},
   "outputs": [],
   "source": [
    "#Creating New Columns Based on Anomaly Detection\n",
    "X['Anomaly_Class'] = Anomaly_Class\n",
    "X['Anomaly_Score'] = Anomaly_Score"
   ]
  },
  {
   "cell_type": "code",
   "execution_count": 31,
   "metadata": {},
   "outputs": [
    {
     "data": {
      "text/html": [
       "<div>\n",
       "<style scoped>\n",
       "    .dataframe tbody tr th:only-of-type {\n",
       "        vertical-align: middle;\n",
       "    }\n",
       "\n",
       "    .dataframe tbody tr th {\n",
       "        vertical-align: top;\n",
       "    }\n",
       "\n",
       "    .dataframe thead th {\n",
       "        text-align: right;\n",
       "    }\n",
       "</style>\n",
       "<table border=\"1\" class=\"dataframe\">\n",
       "  <thead>\n",
       "    <tr style=\"text-align: right;\">\n",
       "      <th></th>\n",
       "      <th>Anomaly_Score</th>\n",
       "    </tr>\n",
       "    <tr>\n",
       "      <th>Anomaly_Class</th>\n",
       "      <th></th>\n",
       "    </tr>\n",
       "  </thead>\n",
       "  <tbody>\n",
       "    <tr>\n",
       "      <th>-1</th>\n",
       "      <td>10005</td>\n",
       "    </tr>\n",
       "    <tr>\n",
       "      <th>1</th>\n",
       "      <td>89995</td>\n",
       "    </tr>\n",
       "  </tbody>\n",
       "</table>\n",
       "</div>"
      ],
      "text/plain": [
       "               Anomaly_Score\n",
       "Anomaly_Class               \n",
       "-1                     10005\n",
       " 1                     89995"
      ]
     },
     "execution_count": 31,
     "metadata": {},
     "output_type": "execute_result"
    }
   ],
   "source": [
    "#Viewing Class Counts#Viewing \n",
    "#-1 is anomaly, 1 is normal\n",
    "X.groupby('Anomaly_Class')[['Anomaly_Score']].count()"
   ]
  },
  {
   "cell_type": "code",
   "execution_count": 32,
   "metadata": {},
   "outputs": [
    {
     "data": {
      "text/plain": [
       "array([<matplotlib.axes._subplots.AxesSubplot object at 0x000001C86A53FE80>,\n",
       "       <matplotlib.axes._subplots.AxesSubplot object at 0x000001C86A3CA8D0>],\n",
       "      dtype=object)"
      ]
     },
     "execution_count": 32,
     "metadata": {},
     "output_type": "execute_result"
    },
    {
     "data": {
      "image/png": "[encoded data removed]",
      "text/plain": [
       "<matplotlib.figure.Figure at 0x1c86d02ff98>"
      ]
     },
     "metadata": {},
     "output_type": "display_data"
    }
   ],
   "source": [
    "#Histogram of Anomaly Scores By Anomaly Class\n",
    "X['Anomaly_Score'].hist(by=X['Anomaly_Class'])"
   ]
  },
  {
   "cell_type": "code",
   "execution_count": 33,
   "metadata": {},
   "outputs": [
    {
     "data": {
      "text/plain": [
       "count    100000.000000\n",
       "mean          0.126158\n",
       "std           0.075239\n",
       "min          -0.340395\n",
       "25%           0.101526\n",
       "50%           0.161206\n",
       "75%           0.173984\n",
       "max           0.181994\n",
       "Name: Anomaly_Score, dtype: float64"
      ]
     },
     "execution_count": 33,
     "metadata": {},
     "output_type": "execute_result"
    }
   ],
   "source": [
    "#Descriptive Statistics#Descrip \n",
    "X['Anomaly_Score'].describe()"
   ]
  },
  {
   "cell_type": "code",
   "execution_count": 34,
   "metadata": {},
   "outputs": [
    {
     "data": {
      "text/plain": [
       "IsolationForest(bootstrap=False, contamination=0.2, max_features=1.0,\n",
       "        max_samples='auto', n_estimators=100, n_jobs=1, random_state=None,\n",
       "        verbose=0)"
      ]
     },
     "execution_count": 34,
     "metadata": {},
     "output_type": "execute_result"
    }
   ],
   "source": [
    "#Implementing Algorithm With Different Parameters\n",
    "#contamination: Proportion of outliers in the data set\n",
    "from sklearn.ensemble import IsolationForest\n",
    "iforest = IsolationForest(contamination=0.2)\n",
    "iforest.fit(X_normalized)"
   ]
  },
  {
   "cell_type": "code",
   "execution_count": 35,
   "metadata": {},
   "outputs": [],
   "source": [
    "#Predicting Anomaly Class and Anomaly Score#Predict \n",
    "Anomaly_Class = iforest.predict(X_normalized)\n",
    "Anomaly_Score = iforest.decision_function(X_normalized)"
   ]
  },
  {
   "cell_type": "code",
   "execution_count": 36,
   "metadata": {},
   "outputs": [],
   "source": [
    "#Creating New Columns Based on Anomaly Detection\n",
    "X['Anomaly_Class_Contamination'] = Anomaly_Class\n",
    "X['Anomaly_Score_Contamination'] = Anomaly_Score"
   ]
  },
  {
   "cell_type": "code",
   "execution_count": 37,
   "metadata": {},
   "outputs": [
    {
     "data": {
      "text/html": [
       "<div>\n",
       "<style scoped>\n",
       "    .dataframe tbody tr th:only-of-type {\n",
       "        vertical-align: middle;\n",
       "    }\n",
       "\n",
       "    .dataframe tbody tr th {\n",
       "        vertical-align: top;\n",
       "    }\n",
       "\n",
       "    .dataframe thead th {\n",
       "        text-align: right;\n",
       "    }\n",
       "</style>\n",
       "<table border=\"1\" class=\"dataframe\">\n",
       "  <thead>\n",
       "    <tr style=\"text-align: right;\">\n",
       "      <th></th>\n",
       "      <th>Anomaly_Score_Contamination</th>\n",
       "    </tr>\n",
       "    <tr>\n",
       "      <th>Anomaly_Class_Contamination</th>\n",
       "      <th></th>\n",
       "    </tr>\n",
       "  </thead>\n",
       "  <tbody>\n",
       "    <tr>\n",
       "      <th>-1</th>\n",
       "      <td>20002</td>\n",
       "    </tr>\n",
       "    <tr>\n",
       "      <th>1</th>\n",
       "      <td>79998</td>\n",
       "    </tr>\n",
       "  </tbody>\n",
       "</table>\n",
       "</div>"
      ],
      "text/plain": [
       "                             Anomaly_Score_Contamination\n",
       "Anomaly_Class_Contamination                             \n",
       "-1                                                 20002\n",
       " 1                                                 79998"
      ]
     },
     "execution_count": 37,
     "metadata": {},
     "output_type": "execute_result"
    }
   ],
   "source": [
    "#Viewing Class Counts\n",
    "#-1 is anomaly, 1 is normal\n",
    "X.groupby('Anomaly_Class_Contamination')[['Anomaly_Score_Contamination']].count()"
   ]
  },
  {
   "cell_type": "code",
   "execution_count": 38,
   "metadata": {},
   "outputs": [
    {
     "data": {
      "text/plain": [
       "array([<matplotlib.axes._subplots.AxesSubplot object at 0x000001C86D0703C8>,\n",
       "       <matplotlib.axes._subplots.AxesSubplot object at 0x000001C86A45C1D0>],\n",
       "      dtype=object)"
      ]
     },
     "execution_count": 38,
     "metadata": {},
     "output_type": "execute_result"
    },
    {
     "data": {
      "image/png": "[encoded data removed]",
      "text/plain": [
       "<matplotlib.figure.Figure at 0x1c86ba81668>"
      ]
     },
     "metadata": {},
     "output_type": "display_data"
    }
   ],
   "source": [
    "#Histogram of Anomaly Scores By Anomaly Class#Histogr \n",
    "X['Anomaly_Score_Contamination'].hist(by=X['Anomaly_Class_Contamination'])"
   ]
  },
  {
   "cell_type": "code",
   "execution_count": 39,
   "metadata": {},
   "outputs": [
    {
     "data": {
      "text/plain": [
       "count    100000.000000\n",
       "mean          0.122956\n",
       "std           0.077462\n",
       "min          -0.333600\n",
       "25%           0.096794\n",
       "50%           0.159191\n",
       "75%           0.172420\n",
       "max           0.179224\n",
       "Name: Anomaly_Score_Contamination, dtype: float64"
      ]
     },
     "execution_count": 39,
     "metadata": {},
     "output_type": "execute_result"
    }
   ],
   "source": [
    "#Descriptive Statistics#Descrip \n",
    "X['Anomaly_Score_Contamination'].describe()"
   ]
  },
  {
   "cell_type": "code",
   "execution_count": 40,
   "metadata": {},
   "outputs": [
    {
     "data": {
      "text/plain": [
       "IsolationForest(bootstrap=True, contamination=0.1, max_features=1.0,\n",
       "        max_samples='auto', n_estimators=100, n_jobs=1, random_state=None,\n",
       "        verbose=0)"
      ]
     },
     "execution_count": 40,
     "metadata": {},
     "output_type": "execute_result"
    }
   ],
   "source": [
    "#Implementing Algorithm With Different Parameters\n",
    "#bootstrap: If True, individual trees are fit on random subsets of the training data sampled with replacement.\n",
    "from sklearn.ensemble import IsolationForest\n",
    "iforest = IsolationForest(bootstrap=True)\n",
    "iforest.fit(X_normalized)"
   ]
  },
  {
   "cell_type": "code",
   "execution_count": 41,
   "metadata": {},
   "outputs": [],
   "source": [
    "#Predicting Anomaly Class and Anomaly Score\n",
    "Anomaly_Class = iforest.predict(X_normalized)\n",
    "Anomaly_Score = iforest.decision_function(X_normalized)"
   ]
  },
  {
   "cell_type": "code",
   "execution_count": 42,
   "metadata": {},
   "outputs": [],
   "source": [
    "#Creating New Columns Based on Anomaly Detection\n",
    "X['Anomaly_Class_Bootstrap'] = Anomaly_Class\n",
    "X['Anomaly_Score_Bootstrap'] = Anomaly_Score"
   ]
  },
  {
   "cell_type": "code",
   "execution_count": 43,
   "metadata": {},
   "outputs": [
    {
     "data": {
      "text/html": [
       "<div>\n",
       "<style scoped>\n",
       "    .dataframe tbody tr th:only-of-type {\n",
       "        vertical-align: middle;\n",
       "    }\n",
       "\n",
       "    .dataframe tbody tr th {\n",
       "        vertical-align: top;\n",
       "    }\n",
       "\n",
       "    .dataframe thead th {\n",
       "        text-align: right;\n",
       "    }\n",
       "</style>\n",
       "<table border=\"1\" class=\"dataframe\">\n",
       "  <thead>\n",
       "    <tr style=\"text-align: right;\">\n",
       "      <th></th>\n",
       "      <th>Anomaly_Score_Bootstrap</th>\n",
       "    </tr>\n",
       "    <tr>\n",
       "      <th>Anomaly_Class_Bootstrap</th>\n",
       "      <th></th>\n",
       "    </tr>\n",
       "  </thead>\n",
       "  <tbody>\n",
       "    <tr>\n",
       "      <th>-1</th>\n",
       "      <td>10000</td>\n",
       "    </tr>\n",
       "    <tr>\n",
       "      <th>1</th>\n",
       "      <td>90000</td>\n",
       "    </tr>\n",
       "  </tbody>\n",
       "</table>\n",
       "</div>"
      ],
      "text/plain": [
       "                         Anomaly_Score_Bootstrap\n",
       "Anomaly_Class_Bootstrap                         \n",
       "-1                                         10000\n",
       " 1                                         90000"
      ]
     },
     "execution_count": 43,
     "metadata": {},
     "output_type": "execute_result"
    }
   ],
   "source": [
    "#Viewing Class Counts\n",
    "#-1 is anomaly, 1 is normal\n",
    "X.groupby('Anomaly_Class_Bootstrap')[['Anomaly_Score_Bootstrap']].count()"
   ]
  },
  {
   "cell_type": "code",
   "execution_count": 44,
   "metadata": {},
   "outputs": [
    {
     "data": {
      "text/plain": [
       "array([<matplotlib.axes._subplots.AxesSubplot object at 0x000001C8002B6C88>,\n",
       "       <matplotlib.axes._subplots.AxesSubplot object at 0x000001C800300D68>],\n",
       "      dtype=object)"
      ]
     },
     "execution_count": 44,
     "metadata": {},
     "output_type": "execute_result"
    },
    {
     "data": {
      "image/png": "[encoded data removed]",
      "text/plain": [
       "<matplotlib.figure.Figure at 0x1c86a476b70>"
      ]
     },
     "metadata": {},
     "output_type": "display_data"
    }
   ],
   "source": [
    "#Histogram of Anomaly Scores By Anomaly Class#Histogr \n",
    "X['Anomaly_Score_Bootstrap'].hist(by=X['Anomaly_Class_Bootstrap'])"
   ]
  },
  {
   "cell_type": "code",
   "execution_count": 45,
   "metadata": {},
   "outputs": [
    {
     "data": {
      "text/html": [
       "<div>\n",
       "<style scoped>\n",
       "    .dataframe tbody tr th:only-of-type {\n",
       "        vertical-align: middle;\n",
       "    }\n",
       "\n",
       "    .dataframe tbody tr th {\n",
       "        vertical-align: top;\n",
       "    }\n",
       "\n",
       "    .dataframe thead th {\n",
       "        text-align: right;\n",
       "    }\n",
       "</style>\n",
       "<table border=\"1\" class=\"dataframe\">\n",
       "  <thead>\n",
       "    <tr style=\"text-align: right;\">\n",
       "      <th></th>\n",
       "      <th>srcPackets</th>\n",
       "      <th>dstPackets</th>\n",
       "      <th>srcBytes</th>\n",
       "      <th>dstBytes</th>\n",
       "      <th>Anomaly_Class</th>\n",
       "      <th>Anomaly_Score</th>\n",
       "      <th>Anomaly_Class_Contamination</th>\n",
       "      <th>Anomaly_Score_Contamination</th>\n",
       "      <th>Anomaly_Class_Bootstrap</th>\n",
       "      <th>Anomaly_Score_Bootstrap</th>\n",
       "    </tr>\n",
       "  </thead>\n",
       "  <tbody>\n",
       "    <tr>\n",
       "      <th>0</th>\n",
       "      <td>0</td>\n",
       "      <td>755065</td>\n",
       "      <td>0</td>\n",
       "      <td>1042329018</td>\n",
       "      <td>-1</td>\n",
       "      <td>-0.175456</td>\n",
       "      <td>-1</td>\n",
       "      <td>-0.185964</td>\n",
       "      <td>-1</td>\n",
       "      <td>-0.183142</td>\n",
       "    </tr>\n",
       "    <tr>\n",
       "      <th>1</th>\n",
       "      <td>1665</td>\n",
       "      <td>1108</td>\n",
       "      <td>300810</td>\n",
       "      <td>250408</td>\n",
       "      <td>1</td>\n",
       "      <td>0.177771</td>\n",
       "      <td>1</td>\n",
       "      <td>0.169069</td>\n",
       "      <td>1</td>\n",
       "      <td>0.173849</td>\n",
       "    </tr>\n",
       "    <tr>\n",
       "      <th>2</th>\n",
       "      <td>1866</td>\n",
       "      <td>0</td>\n",
       "      <td>1477041</td>\n",
       "      <td>0</td>\n",
       "      <td>1</td>\n",
       "      <td>0.176864</td>\n",
       "      <td>1</td>\n",
       "      <td>0.172975</td>\n",
       "      <td>1</td>\n",
       "      <td>0.173596</td>\n",
       "    </tr>\n",
       "    <tr>\n",
       "      <th>3</th>\n",
       "      <td>3326</td>\n",
       "      <td>0</td>\n",
       "      <td>2656305</td>\n",
       "      <td>0</td>\n",
       "      <td>1</td>\n",
       "      <td>0.178125</td>\n",
       "      <td>1</td>\n",
       "      <td>0.169562</td>\n",
       "      <td>1</td>\n",
       "      <td>0.173107</td>\n",
       "    </tr>\n",
       "    <tr>\n",
       "      <th>4</th>\n",
       "      <td>5423</td>\n",
       "      <td>0</td>\n",
       "      <td>4388449</td>\n",
       "      <td>0</td>\n",
       "      <td>1</td>\n",
       "      <td>0.175358</td>\n",
       "      <td>1</td>\n",
       "      <td>0.171592</td>\n",
       "      <td>1</td>\n",
       "      <td>0.170879</td>\n",
       "    </tr>\n",
       "  </tbody>\n",
       "</table>\n",
       "</div>"
      ],
      "text/plain": [
       "   srcPackets  dstPackets  srcBytes    dstBytes  Anomaly_Class  Anomaly_Score  \\\n",
       "0           0      755065         0  1042329018             -1      -0.175456   \n",
       "1        1665        1108    300810      250408              1       0.177771   \n",
       "2        1866           0   1477041           0              1       0.176864   \n",
       "3        3326           0   2656305           0              1       0.178125   \n",
       "4        5423           0   4388449           0              1       0.175358   \n",
       "\n",
       "   Anomaly_Class_Contamination  Anomaly_Score_Contamination  \\\n",
       "0                           -1                    -0.185964   \n",
       "1                            1                     0.169069   \n",
       "2                            1                     0.172975   \n",
       "3                            1                     0.169562   \n",
       "4                            1                     0.171592   \n",
       "\n",
       "   Anomaly_Class_Bootstrap  Anomaly_Score_Bootstrap  \n",
       "0                       -1                -0.183142  \n",
       "1                        1                 0.173849  \n",
       "2                        1                 0.173596  \n",
       "3                        1                 0.173107  \n",
       "4                        1                 0.170879  "
      ]
     },
     "execution_count": 45,
     "metadata": {},
     "output_type": "execute_result"
    }
   ],
   "source": [
    "#Original Data Set With New Variables#Origina \n",
    "X.head()"
   ]
  },
  {
   "cell_type": "code",
   "execution_count": 46,
   "metadata": {},
   "outputs": [
    {
     "data": {
      "text/html": [
       "<div>\n",
       "<style scoped>\n",
       "    .dataframe tbody tr th:only-of-type {\n",
       "        vertical-align: middle;\n",
       "    }\n",
       "\n",
       "    .dataframe tbody tr th {\n",
       "        vertical-align: top;\n",
       "    }\n",
       "\n",
       "    .dataframe thead th {\n",
       "        text-align: right;\n",
       "    }\n",
       "</style>\n",
       "<table border=\"1\" class=\"dataframe\">\n",
       "  <thead>\n",
       "    <tr style=\"text-align: right;\">\n",
       "      <th></th>\n",
       "      <th>Anomaly_Score_Contamination</th>\n",
       "      <th>Anomaly_Score_Bootstrap</th>\n",
       "      <th>Anomaly_Score</th>\n",
       "    </tr>\n",
       "  </thead>\n",
       "  <tbody>\n",
       "    <tr>\n",
       "      <th>0</th>\n",
       "      <td>-0.185964</td>\n",
       "      <td>-0.183142</td>\n",
       "      <td>-0.175456</td>\n",
       "    </tr>\n",
       "    <tr>\n",
       "      <th>1</th>\n",
       "      <td>0.169069</td>\n",
       "      <td>0.173849</td>\n",
       "      <td>0.177771</td>\n",
       "    </tr>\n",
       "    <tr>\n",
       "      <th>3</th>\n",
       "      <td>0.169562</td>\n",
       "      <td>0.173107</td>\n",
       "      <td>0.178125</td>\n",
       "    </tr>\n",
       "    <tr>\n",
       "      <th>4</th>\n",
       "      <td>0.171592</td>\n",
       "      <td>0.170879</td>\n",
       "      <td>0.175358</td>\n",
       "    </tr>\n",
       "    <tr>\n",
       "      <th>2</th>\n",
       "      <td>0.172975</td>\n",
       "      <td>0.173596</td>\n",
       "      <td>0.176864</td>\n",
       "    </tr>\n",
       "  </tbody>\n",
       "</table>\n",
       "</div>"
      ],
      "text/plain": [
       "   Anomaly_Score_Contamination  Anomaly_Score_Bootstrap  Anomaly_Score\n",
       "0                    -0.185964                -0.183142      -0.175456\n",
       "1                     0.169069                 0.173849       0.177771\n",
       "3                     0.169562                 0.173107       0.178125\n",
       "4                     0.171592                 0.170879       0.175358\n",
       "2                     0.172975                 0.173596       0.176864"
      ]
     },
     "execution_count": 46,
     "metadata": {},
     "output_type": "execute_result"
    }
   ],
   "source": [
    "#Top 5 Anomaly Records\n",
    "X[['Anomaly_Score_Contamination','Anomaly_Score_Bootstrap','Anomaly_Score']].head().sort_values(['Anomaly_Score_Contamination'], ascending=[1])"
   ]
  },
  {
   "cell_type": "code",
   "execution_count": null,
   "metadata": {},
   "outputs": [],
   "source": []
  }
 ],
 "metadata": {
  "kernelspec": {
   "display_name": "Python 3",
   "language": "python",
   "name": "python3"
  },
  "language_info": {
   "codemirror_mode": {
    "name": "ipython",
    "version": 3
   },
   "file_extension": ".py",
   "mimetype": "text/x-python",
   "name": "python",
   "nbconvert_exporter": "python",
   "pygments_lexer": "ipython3",
   "version": "3.6.4"
  }
 },
 "nbformat": 4,
 "nbformat_minor": 2
}
